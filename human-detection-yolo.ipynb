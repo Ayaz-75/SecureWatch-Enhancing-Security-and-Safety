{
 "cells": [
  {
   "cell_type": "code",
   "execution_count": 3,
   "metadata": {},
   "outputs": [],
   "source": [
    "import cv2\n",
    "import numpy as np\n",
    "import random\n",
    "import os\n",
    "from PIL import Image\n",
    "import time\n",
    "import smtplib\n",
    "import os\n",
    "from twilio.rest import Client"
   ]
  },
  {
   "cell_type": "code",
   "execution_count": 4,
   "metadata": {},
   "outputs": [
    {
     "name": "stdout",
     "output_type": "stream",
     "text": [
      "Output layers ['yolo_82', 'yolo_94', 'yolo_106']\n",
      "SMS Alert has been sent successfully\n"
     ]
    }
   ],
   "source": [
    "# My Twilio account details\n",
    "my_account_sid = \"twilio account id\"\n",
    "my_account_aut = \"twilio account auth key\"\n",
    "\n",
    "\n",
    "\n",
    "net = cv2.dnn.readNet(\"yolov3.weights\", \"yolov3.cfg\")\n",
    "# net.setPreferableBackend(cv2.dnn.DNN_BACKEND_CUDA)\n",
    "# net.setPreferableTarget(cv2.dnn.DNN_TARGET_CUDA)\n",
    "distance_thres = 50\n",
    "\n",
    "count = 0\n",
    "\n",
    "\n",
    "cap = cv2.VideoCapture(0)\n",
    "def dist(pt1,pt2):\n",
    "    try:\n",
    "        return ((pt1[0]-pt2[0])**2 + (pt1[1]-pt2[1])**2)**0.5\n",
    "    except:\n",
    "        return\n",
    "layer_names = net.getLayerNames()\n",
    "output_layers = [layer_names[i - 1] for i in net.getUnconnectedOutLayers()]\n",
    "print('Output layers',output_layers)\n",
    "_,frame = cap.read()\n",
    "fourcc = cv2.VideoWriter_fourcc(*\"MJPG\")\n",
    "writer = cv2.VideoWriter('output.avi', fourcc, 30,(frame.shape[1], frame.shape[0]), True)\n",
    "ret = True\n",
    "while ret:\n",
    "    ret, img = cap.read()\n",
    "    if ret:\n",
    "        height, width = img.shape[:2]\n",
    "        blob = cv2.dnn.blobFromImage(img, 0.00392, (416, 416), (0, 0, 0), True, crop=False)\n",
    "        net.setInput(blob)\n",
    "        outs = net.forward(output_layers)\n",
    "        confidences = []\n",
    "        boxes = []\n",
    "        \n",
    "        for out in outs:\n",
    "            for detection in out:\n",
    "                scores = detection[5:]\n",
    "                class_id = np.argmax(scores)\n",
    "                if class_id!=0:\n",
    "                    continue\n",
    "                confidence = scores[class_id]\n",
    "                if confidence > 0.3:\n",
    "                    center_x = int(detection[0] * width)\n",
    "                    center_y = int(detection[1] * height)\n",
    "                    w = int(detection[2] * width)\n",
    "                    h = int(detection[3] * height)\n",
    "                    x = int(center_x - w / 2)\n",
    "                    y = int(center_y - h / 2)\n",
    "                    boxes.append([x, y, w, h])\n",
    "                    confidences.append(float(confidence))\n",
    "        indexes = cv2.dnn.NMSBoxes(boxes, confidences, 0.5, 0.4)\n",
    "        persons = []\n",
    "        person_centres = []\n",
    "        violate = set()\n",
    "        for i in range(len(boxes)):\n",
    "            if i in indexes:\n",
    "                x,y,w,h = boxes[i]\n",
    "                persons.append(boxes[i])\n",
    "                person_centres.append([x+w//2,y+h//2])\n",
    "        \n",
    "        v = 0\n",
    "        for (x,y,w,h) in persons:\n",
    "            color = (0,255,0)\n",
    "            cv2.rectangle(img,(x,y),(x+w,y+h),color,2)\n",
    "            cv2.circle(img,(x+w//2,y+h//2),2,(0,0,255),2)\n",
    "        \n",
    "    \n",
    "            if count == 0:\n",
    "                \n",
    "                ### Sending msg with twilio account that someone has entered office.\n",
    "                client = Client(my_account_sid, my_account_aut)\n",
    "                message = client.messages \\\n",
    "                .create(\n",
    "                     body=\"Alert: Human 🧑 Detected!\\n\\nA human has been detected in the restricted area.\",\n",
    "                     from_='twilio_number',\n",
    "                     to='recipent_number'\n",
    "                 )\n",
    "                print(\"SMS Alert has been sent successfully\")\n",
    "\n",
    "            count = count+1 \n",
    "\n",
    "\n",
    "        writer.write(img)\n",
    "        cv2.imshow(\"Image\", img)\n",
    "    \n",
    "    if cv2.waitKey(1) == 27:\n",
    "        break\n",
    "\n",
    "\n",
    "cap.release()\n",
    "cv2.destroyAllWindows()"
   ]
  },
  {
   "cell_type": "code",
   "execution_count": null,
   "metadata": {},
   "outputs": [],
   "source": []
  }
 ],
 "metadata": {
  "kernelspec": {
   "display_name": "Python 3.10.6 64-bit",
   "language": "python",
   "name": "python3"
  },
  "language_info": {
   "codemirror_mode": {
    "name": "ipython",
    "version": 3
   },
   "file_extension": ".py",
   "mimetype": "text/x-python",
   "name": "python",
   "nbconvert_exporter": "python",
   "pygments_lexer": "ipython3",
   "version": "3.12.3"
  },
  "vscode": {
   "interpreter": {
    "hash": "c27374c9edb5c442ddaba8b9dffd9a8fb6530e45b910276a86455660058cec29"
   }
  }
 },
 "nbformat": 4,
 "nbformat_minor": 5
}
